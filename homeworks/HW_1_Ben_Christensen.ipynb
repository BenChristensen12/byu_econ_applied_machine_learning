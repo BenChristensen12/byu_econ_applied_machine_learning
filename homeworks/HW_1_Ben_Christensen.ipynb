{
 "cells": [
  {
   "cell_type": "markdown",
   "metadata": {},
   "source": [
    "### Ben Christensen  - 1/30/2018 - Econ 213R Machine Learning "
   ]
  },
  {
   "cell_type": "code",
   "execution_count": 76,
   "metadata": {},
   "outputs": [],
   "source": [
    "import pandas as pd\n",
    "import numpy as np\n",
    "from matplotlib import pyplot as plt\n",
    "from sklearn.preprocessing import MinMaxScaler, StandardScaler\n",
    "import sqlite3\n",
    "import json\n",
    "import requests\n",
    "import urllib.request\n",
    "\n",
    "%matplotlib inline"
   ]
  },
  {
   "cell_type": "markdown",
   "metadata": {},
   "source": [
    "# Data #1\n",
    "## Trump first-year employment compared to past 20 years of employment"
   ]
  },
  {
   "cell_type": "markdown",
   "metadata": {},
   "source": [
    "In this data visualization, I give a snapshot of a brief comparison of employment levels during Trump's first year and employment levels from 1997-2016.\n",
    "\n",
    "In every case, \"average\" refers to the average value listed for that month in the 20 years leading up to Trump's first year in office."
   ]
  },
  {
   "cell_type": "code",
   "execution_count": 2,
   "metadata": {},
   "outputs": [
    {
     "data": {
      "text/html": [
       "<div>\n",
       "<style>\n",
       "    .dataframe thead tr:only-child th {\n",
       "        text-align: right;\n",
       "    }\n",
       "\n",
       "    .dataframe thead th {\n",
       "        text-align: left;\n",
       "    }\n",
       "\n",
       "    .dataframe tbody tr th {\n",
       "        vertical-align: top;\n",
       "    }\n",
       "</style>\n",
       "<table border=\"1\" class=\"dataframe\">\n",
       "  <thead>\n",
       "    <tr style=\"text-align: right;\">\n",
       "      <th></th>\n",
       "      <th>Series ID</th>\n",
       "      <th>Year</th>\n",
       "      <th>Period</th>\n",
       "      <th>Label</th>\n",
       "      <th>Value</th>\n",
       "      <th>1-Month % Change</th>\n",
       "    </tr>\n",
       "  </thead>\n",
       "  <tbody>\n",
       "    <tr>\n",
       "      <th>0</th>\n",
       "      <td>CES0000000001</td>\n",
       "      <td>1997</td>\n",
       "      <td>M01</td>\n",
       "      <td>1997 Jan</td>\n",
       "      <td>121379</td>\n",
       "      <td>0.2</td>\n",
       "    </tr>\n",
       "    <tr>\n",
       "      <th>1</th>\n",
       "      <td>CES0000000001</td>\n",
       "      <td>1997</td>\n",
       "      <td>M02</td>\n",
       "      <td>1997 Feb</td>\n",
       "      <td>121684</td>\n",
       "      <td>0.3</td>\n",
       "    </tr>\n",
       "    <tr>\n",
       "      <th>2</th>\n",
       "      <td>CES0000000001</td>\n",
       "      <td>1997</td>\n",
       "      <td>M03</td>\n",
       "      <td>1997 Mar</td>\n",
       "      <td>121999</td>\n",
       "      <td>0.3</td>\n",
       "    </tr>\n",
       "    <tr>\n",
       "      <th>3</th>\n",
       "      <td>CES0000000001</td>\n",
       "      <td>1997</td>\n",
       "      <td>M04</td>\n",
       "      <td>1997 Apr</td>\n",
       "      <td>122291</td>\n",
       "      <td>0.2</td>\n",
       "    </tr>\n",
       "    <tr>\n",
       "      <th>4</th>\n",
       "      <td>CES0000000001</td>\n",
       "      <td>1997</td>\n",
       "      <td>M05</td>\n",
       "      <td>1997 May</td>\n",
       "      <td>122552</td>\n",
       "      <td>0.2</td>\n",
       "    </tr>\n",
       "  </tbody>\n",
       "</table>\n",
       "</div>"
      ],
      "text/plain": [
       "       Series ID  Year Period     Label   Value  1-Month % Change\n",
       "0  CES0000000001  1997    M01  1997 Jan  121379               0.2\n",
       "1  CES0000000001  1997    M02  1997 Feb  121684               0.3\n",
       "2  CES0000000001  1997    M03  1997 Mar  121999               0.3\n",
       "3  CES0000000001  1997    M04  1997 Apr  122291               0.2\n",
       "4  CES0000000001  1997    M05  1997 May  122552               0.2"
      ]
     },
     "execution_count": 2,
     "metadata": {},
     "output_type": "execute_result"
    }
   ],
   "source": [
    "data = pd.read_csv(\"employment.csv\")\n",
    "data.head()\n"
   ]
  },
  {
   "cell_type": "code",
   "execution_count": 3,
   "metadata": {},
   "outputs": [
    {
     "data": {
      "text/html": [
       "<div>\n",
       "<style>\n",
       "    .dataframe thead tr:only-child th {\n",
       "        text-align: right;\n",
       "    }\n",
       "\n",
       "    .dataframe thead th {\n",
       "        text-align: left;\n",
       "    }\n",
       "\n",
       "    .dataframe tbody tr th {\n",
       "        vertical-align: top;\n",
       "    }\n",
       "</style>\n",
       "<table border=\"1\" class=\"dataframe\">\n",
       "  <thead>\n",
       "    <tr style=\"text-align: right;\">\n",
       "      <th></th>\n",
       "      <th>Year</th>\n",
       "      <th>Value</th>\n",
       "      <th>1-Month % Change</th>\n",
       "    </tr>\n",
       "  </thead>\n",
       "  <tbody>\n",
       "    <tr>\n",
       "      <th>count</th>\n",
       "      <td>252.000000</td>\n",
       "      <td>252.000000</td>\n",
       "      <td>252.000000</td>\n",
       "    </tr>\n",
       "    <tr>\n",
       "      <th>mean</th>\n",
       "      <td>2007.000000</td>\n",
       "      <td>134123.932540</td>\n",
       "      <td>0.080159</td>\n",
       "    </tr>\n",
       "    <tr>\n",
       "      <th>std</th>\n",
       "      <td>6.067351</td>\n",
       "      <td>5633.338281</td>\n",
       "      <td>0.168669</td>\n",
       "    </tr>\n",
       "    <tr>\n",
       "      <th>min</th>\n",
       "      <td>1997.000000</td>\n",
       "      <td>121379.000000</td>\n",
       "      <td>-0.600000</td>\n",
       "    </tr>\n",
       "    <tr>\n",
       "      <th>25%</th>\n",
       "      <td>2002.000000</td>\n",
       "      <td>130614.500000</td>\n",
       "      <td>0.000000</td>\n",
       "    </tr>\n",
       "    <tr>\n",
       "      <th>50%</th>\n",
       "      <td>2007.000000</td>\n",
       "      <td>132726.000000</td>\n",
       "      <td>0.100000</td>\n",
       "    </tr>\n",
       "    <tr>\n",
       "      <th>75%</th>\n",
       "      <td>2012.000000</td>\n",
       "      <td>137623.750000</td>\n",
       "      <td>0.200000</td>\n",
       "    </tr>\n",
       "    <tr>\n",
       "      <th>max</th>\n",
       "      <td>2017.000000</td>\n",
       "      <td>147380.000000</td>\n",
       "      <td>0.400000</td>\n",
       "    </tr>\n",
       "  </tbody>\n",
       "</table>\n",
       "</div>"
      ],
      "text/plain": [
       "              Year          Value  1-Month % Change\n",
       "count   252.000000     252.000000        252.000000\n",
       "mean   2007.000000  134123.932540          0.080159\n",
       "std       6.067351    5633.338281          0.168669\n",
       "min    1997.000000  121379.000000         -0.600000\n",
       "25%    2002.000000  130614.500000          0.000000\n",
       "50%    2007.000000  132726.000000          0.100000\n",
       "75%    2012.000000  137623.750000          0.200000\n",
       "max    2017.000000  147380.000000          0.400000"
      ]
     },
     "execution_count": 3,
     "metadata": {},
     "output_type": "execute_result"
    }
   ],
   "source": [
    "data.describe()"
   ]
  },
  {
   "cell_type": "markdown",
   "metadata": {},
   "source": [
    "There are 252 observations (12 months * 21 years)\n",
    "\n",
    "\n",
    "Max and min employment levels:\n",
    "Max = 147,380\n",
    "Min = 121,379"
   ]
  },
  {
   "cell_type": "code",
   "execution_count": 4,
   "metadata": {},
   "outputs": [
    {
     "name": "stdout",
     "output_type": "stream",
     "text": [
      "<class 'pandas.core.frame.DataFrame'>\n",
      "RangeIndex: 252 entries, 0 to 251\n",
      "Data columns (total 6 columns):\n",
      "Series ID           252 non-null object\n",
      "Year                252 non-null int64\n",
      "Period              252 non-null object\n",
      "Label               252 non-null object\n",
      "Value               252 non-null int64\n",
      "1-Month % Change    252 non-null float64\n",
      "dtypes: float64(1), int64(2), object(3)\n",
      "memory usage: 11.9+ KB\n"
     ]
    }
   ],
   "source": [
    "data.info()"
   ]
  },
  {
   "cell_type": "markdown",
   "metadata": {},
   "source": [
    "No missing data"
   ]
  },
  {
   "cell_type": "code",
   "execution_count": 5,
   "metadata": {},
   "outputs": [
    {
     "data": {
      "text/plain": [
       "Index([], dtype='object')"
      ]
     },
     "execution_count": 5,
     "metadata": {},
     "output_type": "execute_result"
    }
   ],
   "source": [
    "data.columns[data.isnull().any()]"
   ]
  },
  {
   "cell_type": "code",
   "execution_count": 6,
   "metadata": {},
   "outputs": [
    {
     "data": {
      "image/png": "[encoded data removed]",
      "text/plain": [
       "<matplotlib.figure.Figure at 0x10528be80>"
      ]
     },
     "metadata": {},
     "output_type": "display_data"
    }
   ],
   "source": [
    "bbox = data['Value'].plot(kind='box')"
   ]
  },
  {
   "cell_type": "code",
   "execution_count": 7,
   "metadata": {},
   "outputs": [
    {
     "data": {
      "text/html": [
       "<div>\n",
       "<style>\n",
       "    .dataframe thead tr:only-child th {\n",
       "        text-align: right;\n",
       "    }\n",
       "\n",
       "    .dataframe thead th {\n",
       "        text-align: left;\n",
       "    }\n",
       "\n",
       "    .dataframe tbody tr th {\n",
       "        vertical-align: top;\n",
       "    }\n",
       "</style>\n",
       "<table border=\"1\" class=\"dataframe\">\n",
       "  <thead>\n",
       "    <tr style=\"text-align: right;\">\n",
       "      <th></th>\n",
       "      <th>Year</th>\n",
       "      <th>Value</th>\n",
       "      <th>1-Month % Change</th>\n",
       "    </tr>\n",
       "  </thead>\n",
       "  <tbody>\n",
       "    <tr>\n",
       "      <th>0.25</th>\n",
       "      <td>2002.0</td>\n",
       "      <td>130614.500</td>\n",
       "      <td>0.0</td>\n",
       "    </tr>\n",
       "    <tr>\n",
       "      <th>0.75</th>\n",
       "      <td>2012.0</td>\n",
       "      <td>137623.750</td>\n",
       "      <td>0.2</td>\n",
       "    </tr>\n",
       "    <tr>\n",
       "      <th>iqr</th>\n",
       "      <td>10.0</td>\n",
       "      <td>7009.250</td>\n",
       "      <td>0.2</td>\n",
       "    </tr>\n",
       "    <tr>\n",
       "      <th>whisker_length</th>\n",
       "      <td>15.0</td>\n",
       "      <td>10513.875</td>\n",
       "      <td>0.3</td>\n",
       "    </tr>\n",
       "    <tr>\n",
       "      <th>max_whisker</th>\n",
       "      <td>2027.0</td>\n",
       "      <td>148137.625</td>\n",
       "      <td>0.5</td>\n",
       "    </tr>\n",
       "    <tr>\n",
       "      <th>min_whisker</th>\n",
       "      <td>1987.0</td>\n",
       "      <td>120100.625</td>\n",
       "      <td>-0.3</td>\n",
       "    </tr>\n",
       "  </tbody>\n",
       "</table>\n",
       "</div>"
      ],
      "text/plain": [
       "                  Year       Value  1-Month % Change\n",
       "0.25            2002.0  130614.500               0.0\n",
       "0.75            2012.0  137623.750               0.2\n",
       "iqr               10.0    7009.250               0.2\n",
       "whisker_length    15.0   10513.875               0.3\n",
       "max_whisker     2027.0  148137.625               0.5\n",
       "min_whisker     1987.0  120100.625              -0.3"
      ]
     },
     "execution_count": 7,
     "metadata": {},
     "output_type": "execute_result"
    }
   ],
   "source": [
    "q_df = data.quantile([.25, .75])\n",
    "q_df.loc['iqr'] = q_df.loc[0.75] - q_df.loc[.25]\n",
    "q_df.loc['whisker_length'] = 1.5*q_df.loc['iqr']\n",
    "q_df.loc['max_whisker'] = q_df.loc['whisker_length'] + q_df.loc[0.75]\n",
    "q_df.loc['min_whisker'] = q_df.loc[0.25] - q_df.loc['whisker_length']\n",
    "q_df"
   ]
  },
  {
   "cell_type": "markdown",
   "metadata": {},
   "source": [
    "All employment levels are within the whiskers (no outliers)."
   ]
  },
  {
   "cell_type": "code",
   "execution_count": 8,
   "metadata": {
    "scrolled": true
   },
   "outputs": [],
   "source": [
    "standard = StandardScaler()\n",
    "values = np.array(data[\"Value\"])\n",
    "\n",
    "standard_values = standard.fit_transform([[i, float(value)] for i, value in enumerate(list(data[\"Value\"]))])"
   ]
  },
  {
   "cell_type": "code",
   "execution_count": 9,
   "metadata": {},
   "outputs": [
    {
     "data": {
      "text/html": [
       "<div>\n",
       "<style>\n",
       "    .dataframe thead tr:only-child th {\n",
       "        text-align: right;\n",
       "    }\n",
       "\n",
       "    .dataframe thead th {\n",
       "        text-align: left;\n",
       "    }\n",
       "\n",
       "    .dataframe tbody tr th {\n",
       "        vertical-align: top;\n",
       "    }\n",
       "</style>\n",
       "<table border=\"1\" class=\"dataframe\">\n",
       "  <thead>\n",
       "    <tr style=\"text-align: right;\">\n",
       "      <th></th>\n",
       "      <th>Year</th>\n",
       "      <th>Value</th>\n",
       "      <th>1-Month % Change</th>\n",
       "    </tr>\n",
       "  </thead>\n",
       "  <tbody>\n",
       "    <tr>\n",
       "      <th>count</th>\n",
       "      <td>252.000000</td>\n",
       "      <td>252.000000</td>\n",
       "      <td>252.000000</td>\n",
       "    </tr>\n",
       "    <tr>\n",
       "      <th>mean</th>\n",
       "      <td>2007.000000</td>\n",
       "      <td>134123.932540</td>\n",
       "      <td>0.080159</td>\n",
       "    </tr>\n",
       "    <tr>\n",
       "      <th>std</th>\n",
       "      <td>6.067351</td>\n",
       "      <td>5633.338281</td>\n",
       "      <td>0.168669</td>\n",
       "    </tr>\n",
       "    <tr>\n",
       "      <th>min</th>\n",
       "      <td>1997.000000</td>\n",
       "      <td>121379.000000</td>\n",
       "      <td>-0.600000</td>\n",
       "    </tr>\n",
       "    <tr>\n",
       "      <th>1%</th>\n",
       "      <td>1997.000000</td>\n",
       "      <td>122147.920000</td>\n",
       "      <td>-0.549000</td>\n",
       "    </tr>\n",
       "    <tr>\n",
       "      <th>5%</th>\n",
       "      <td>1998.000000</td>\n",
       "      <td>124937.450000</td>\n",
       "      <td>-0.200000</td>\n",
       "    </tr>\n",
       "    <tr>\n",
       "      <th>50%</th>\n",
       "      <td>2007.000000</td>\n",
       "      <td>132726.000000</td>\n",
       "      <td>0.100000</td>\n",
       "    </tr>\n",
       "    <tr>\n",
       "      <th>95%</th>\n",
       "      <td>2016.000000</td>\n",
       "      <td>145239.750000</td>\n",
       "      <td>0.300000</td>\n",
       "    </tr>\n",
       "    <tr>\n",
       "      <th>99%</th>\n",
       "      <td>2017.000000</td>\n",
       "      <td>146872.390000</td>\n",
       "      <td>0.349000</td>\n",
       "    </tr>\n",
       "    <tr>\n",
       "      <th>max</th>\n",
       "      <td>2017.000000</td>\n",
       "      <td>147380.000000</td>\n",
       "      <td>0.400000</td>\n",
       "    </tr>\n",
       "  </tbody>\n",
       "</table>\n",
       "</div>"
      ],
      "text/plain": [
       "              Year          Value  1-Month % Change\n",
       "count   252.000000     252.000000        252.000000\n",
       "mean   2007.000000  134123.932540          0.080159\n",
       "std       6.067351    5633.338281          0.168669\n",
       "min    1997.000000  121379.000000         -0.600000\n",
       "1%     1997.000000  122147.920000         -0.549000\n",
       "5%     1998.000000  124937.450000         -0.200000\n",
       "50%    2007.000000  132726.000000          0.100000\n",
       "95%    2016.000000  145239.750000          0.300000\n",
       "99%    2017.000000  146872.390000          0.349000\n",
       "max    2017.000000  147380.000000          0.400000"
      ]
     },
     "execution_count": 9,
     "metadata": {},
     "output_type": "execute_result"
    }
   ],
   "source": [
    "data.describe(percentiles=[.01, .05, .95, .99])"
   ]
  },
  {
   "cell_type": "code",
   "execution_count": null,
   "metadata": {
    "collapsed": true
   },
   "outputs": [],
   "source": []
  },
  {
   "cell_type": "code",
   "execution_count": 10,
   "metadata": {},
   "outputs": [
    {
     "data": {
      "image/png": "[encoded data removed]",
      "text/plain": [
       "<matplotlib.figure.Figure at 0x11370f518>"
      ]
     },
     "metadata": {},
     "output_type": "display_data"
    }
   ],
   "source": [
    "employment = list(data[\"Value\"])\n",
    "pre_Trump_employment = employment[:240]\n",
    "pre_Trump_labels = list(data[\"Label\"])[:240]\n",
    "Trump_employment = employment[240:]\n",
    "Trump_labels = list(data[\"Label\"])[240:]\n",
    "\n",
    "avg_employment = []\n",
    "Months = ['Jan', 'Feb', 'Mar', 'Apr', 'May', 'Jun', 'Jul', 'Aug', 'Sep', 'Oct', 'Nov', 'Dec']\n",
    "\n",
    "#Find the average employment for each month across 1997-2016\n",
    "for i, month in enumerate(Months):\n",
    "    _sum = 0\n",
    "    for t in zip(pre_Trump_employment, pre_Trump_labels):\n",
    "        if month in t[1]:\n",
    "            _sum += t[0]\n",
    "    avg_employment.append(_sum / 20)\n",
    "    \n",
    "plt.plot(employment)\n",
    "plt.title(\"Employment From 1997-2018\")\n",
    "plt.show()"
   ]
  },
  {
   "cell_type": "markdown",
   "metadata": {},
   "source": [
    "The following graphs compare the change in average employment over the course of the year (from 1997-2016) with the employment over the course of the first year of Trump's presidency. Notice that the axis is different between the two plots. This is because employment has been increasing across the entire period. However, I scale each graph using the midpoint method based on the average employment in that year. The interesting information is comparing the change in the two graphs."
   ]
  },
  {
   "cell_type": "code",
   "execution_count": 55,
   "metadata": {},
   "outputs": [
    {
     "data": {
      "image/png": "[encoded data removed]",
      "text/plain": [
       "<matplotlib.figure.Figure at 0x11466ba58>"
      ]
     },
     "metadata": {},
     "output_type": "display_data"
    }
   ],
   "source": [
    "#Using the midpoint method, I make find the y-limits of the Average\n",
    "#employment graph that will match the scale of the Trump employment\n",
    "#graph.\n",
    "x = (147250 - 145500) / ((145500 + 147250) / 2)\n",
    "y = (134000+133000) / 2\n",
    "z = x*y\n",
    "#y + z/2 is the new upper limit for the avg. graph\n",
    "#y - z/2 is the new lower limit for the avg. graph\n",
    "\n",
    "plt.subplot(121)\n",
    "plt.plot(Trump_employment)\n",
    "plt.title(\"Trump Employment\")\n",
    "plt.xlabel(\"Month\")\n",
    "plt.subplot(122)\n",
    "plt.plot(avg_employment)\n",
    "plt.title(\"Average Employment\")\n",
    "plt.xlabel(\"Month\")\n",
    "plt.ylim(y-z/2, y+z/2)\n",
    "plt.show()\n"
   ]
  },
  {
   "cell_type": "code",
   "execution_count": 57,
   "metadata": {},
   "outputs": [
    {
     "data": {
      "image/png": "[encoded data removed]",
      "text/plain": [
       "<matplotlib.figure.Figure at 0x11428df28>"
      ]
     },
     "metadata": {},
     "output_type": "display_data"
    }
   ],
   "source": [
    "pre_Trump_change = list(data[\"1-Month % Change\"])[:240]\n",
    "Trump_change = list(data[\"1-Month % Change\"])[240:]\n",
    "\n",
    "avg_change = []\n",
    "for i, month in enumerate(Months):\n",
    "    _sum = 0\n",
    "    for t in zip(pre_Trump_change, pre_Trump_labels):\n",
    "        if month in t[1]:\n",
    "            _sum += t[0]\n",
    "    avg_change.append(_sum / 20)\n",
    "    \n",
    "plt.plot(avg_change, label=\"Average\")\n",
    "plt.plot(Trump_change, label=\"Trump\")\n",
    "plt.title(\"Monthly Percent Change in Employment\")\n",
    "plt.legend(loc= \"upper center\")\n",
    "plt.show()"
   ]
  },
  {
   "cell_type": "markdown",
   "metadata": {},
   "source": [
    "Now I compare the percent change in employment over the course of the year using the midpoint method. I compare the percent change in Trump's first year to the average percent change in the prior 20 years."
   ]
  },
  {
   "cell_type": "code",
   "execution_count": 13,
   "metadata": {
    "scrolled": false
   },
   "outputs": [
    {
     "name": "stdout",
     "output_type": "stream",
     "text": [
      "Average percent change in employment: 0.83%\n",
      "Trump percent change in employment: 1.26%\n"
     ]
    }
   ],
   "source": [
    "avg_increase = (avg_employment[-1] - avg_employment[0]) / ((avg_employment[-1] + avg_employment[0]) / 2)\n",
    "Trump_increase = (Trump_employment[-1] - Trump_employment[0]) / ((Trump_employment[-1] + Trump_employment[0]) / 2)\n",
    "\n",
    "print(\"Average percent change in employment: \", round(100*avg_increase, 2), \"%\", sep=\"\")\n",
    "print(\"Trump percent change in employment: \", round(100*Trump_increase, 2), \"%\", sep=\"\")"
   ]
  },
  {
   "cell_type": "markdown",
   "metadata": {},
   "source": [
    "In conclusion, it seems clear that Trump's inauguration did not have an immediate negative impact on employment. There is some evidence it had a positive impact on employment. In further analysis I would like to remove the Great recession of 2008 and see how the results change. I would also like to study the trend occurring just prior Trump's first year in office."
   ]
  },
  {
   "cell_type": "markdown",
   "metadata": {},
   "source": [
    "Data Source: https://beta.bls.gov/dataViewer/view/timeseries/CES0000000001"
   ]
  },
  {
   "cell_type": "markdown",
   "metadata": {},
   "source": [
    "# Data #2\n",
    "## European Soccer Database"
   ]
  },
  {
   "cell_type": "markdown",
   "metadata": {},
   "source": [
    "Using SQL and the European Soccer Database, I wanted to find the highest number of goals scored in a soccer match, and which teams scored them. I give the team, what country the team is from, and the date the high scores were made."
   ]
  },
  {
   "cell_type": "code",
   "execution_count": 44,
   "metadata": {},
   "outputs": [],
   "source": [
    "conn = sqlite3.connect(\"database.sqlite\")\n",
    "head_df = pd.read_sql_query(\"select * from Country;\", conn)\n",
    "head_df\n",
    "cur = conn.cursor()"
   ]
  },
  {
   "cell_type": "code",
   "execution_count": 45,
   "metadata": {},
   "outputs": [
    {
     "data": {
      "text/html": [
       "<div>\n",
       "<style>\n",
       "    .dataframe thead tr:only-child th {\n",
       "        text-align: right;\n",
       "    }\n",
       "\n",
       "    .dataframe thead th {\n",
       "        text-align: left;\n",
       "    }\n",
       "\n",
       "    .dataframe tbody tr th {\n",
       "        vertical-align: top;\n",
       "    }\n",
       "</style>\n",
       "<table border=\"1\" class=\"dataframe\">\n",
       "  <thead>\n",
       "    <tr style=\"text-align: right;\">\n",
       "      <th></th>\n",
       "      <th>home_team_api_id</th>\n",
       "      <th>max(home_team_goal)</th>\n",
       "    </tr>\n",
       "  </thead>\n",
       "  <tbody>\n",
       "    <tr>\n",
       "      <th>0</th>\n",
       "      <td>8640</td>\n",
       "      <td>10</td>\n",
       "    </tr>\n",
       "  </tbody>\n",
       "</table>\n",
       "</div>"
      ],
      "text/plain": [
       "   home_team_api_id  max(home_team_goal)\n",
       "0              8640                   10"
      ]
     },
     "execution_count": 45,
     "metadata": {},
     "output_type": "execute_result"
    }
   ],
   "source": [
    "pd.read_sql_query(\"\"\"select home_team_api_id, max(home_team_goal) from Match\"\"\", conn)\n",
    "\n",
    "\n"
   ]
  },
  {
   "cell_type": "code",
   "execution_count": 46,
   "metadata": {},
   "outputs": [
    {
     "data": {
      "text/plain": [
       "[('Feyenoord', 'Netherlands', '2010-10-24 00:00:00'),\n",
       " ('Rayo Vallecano', 'Spain', '2015-12-20 00:00:00')]"
      ]
     },
     "execution_count": 46,
     "metadata": {},
     "output_type": "execute_result"
    }
   ],
   "source": [
    "cur.execute(\"SELECT T.team_long_name, CR.name, M.date \"\n",
    "            \"FROM Country as CR, Match as M, Team as T \"\n",
    "            \"WHERE M.country_id == CR.id AND M.home_team_goal == 10 AND M.away_team_api_id == T.team_api_id;\")\n",
    "cur.fetchall()"
   ]
  },
  {
   "cell_type": "code",
   "execution_count": 47,
   "metadata": {},
   "outputs": [
    {
     "data": {
      "text/html": [
       "<div>\n",
       "<style>\n",
       "    .dataframe thead tr:only-child th {\n",
       "        text-align: right;\n",
       "    }\n",
       "\n",
       "    .dataframe thead th {\n",
       "        text-align: left;\n",
       "    }\n",
       "\n",
       "    .dataframe tbody tr th {\n",
       "        vertical-align: top;\n",
       "    }\n",
       "</style>\n",
       "<table border=\"1\" class=\"dataframe\">\n",
       "  <thead>\n",
       "    <tr style=\"text-align: right;\">\n",
       "      <th></th>\n",
       "      <th>away_team_api_id</th>\n",
       "      <th>max(away_team_goal)</th>\n",
       "    </tr>\n",
       "  </thead>\n",
       "  <tbody>\n",
       "    <tr>\n",
       "      <th>0</th>\n",
       "      <td>9847</td>\n",
       "      <td>9</td>\n",
       "    </tr>\n",
       "  </tbody>\n",
       "</table>\n",
       "</div>"
      ],
      "text/plain": [
       "   away_team_api_id  max(away_team_goal)\n",
       "0              9847                    9"
      ]
     },
     "execution_count": 47,
     "metadata": {},
     "output_type": "execute_result"
    }
   ],
   "source": [
    "pd.read_sql_query(\"\"\"select away_team_api_id, max(away_team_goal) from Match\"\"\", conn)\n",
    "\n"
   ]
  },
  {
   "cell_type": "code",
   "execution_count": 48,
   "metadata": {},
   "outputs": [
    {
     "data": {
      "text/plain": [
       "[('Paris Saint-Germain', 'France', '2016-03-13 00:00:00')]"
      ]
     },
     "execution_count": 48,
     "metadata": {},
     "output_type": "execute_result"
    }
   ],
   "source": [
    "cur.execute(\"SELECT T.team_long_name, CR.name, M.date \"\n",
    "            \"FROM Country as CR, Match as M, Team as T \"\n",
    "            \"WHERE M.country_id == CR.id AND M.away_team_goal == 9 AND M.away_team_api_id == T.team_api_id;\")\n",
    "cur.fetchall()"
   ]
  },
  {
   "cell_type": "markdown",
   "metadata": {},
   "source": [
    "Data Source: https://www.kaggle.com/hugomathien/soccer/data"
   ]
  },
  {
   "cell_type": "markdown",
   "metadata": {},
   "source": [
    "# Data #3\n",
    "## Population estimates for 1990-2000"
   ]
  },
  {
   "cell_type": "markdown",
   "metadata": {},
   "source": [
    "I'm trying to read in text files from the US census. However, the data is in the form of bytes so I'm unsure how to manipulate it. The third object in each entry should be the populaiton number, but I can't access it as an integer."
   ]
  },
  {
   "cell_type": "code",
   "execution_count": 114,
   "metadata": {},
   "outputs": [
    {
     "name": "stdout",
     "output_type": "stream",
     "text": [
      "<class 'bytes'>\n",
      "b'9P 41990999  248790925 121284188 127506737 102163005 106577945  14439402  16077514   1024828   1041719   3656953   3809559  11401617  10976922  91751437  96563875  13824966  15479132    884914    912114   3421254   3574694\\r\\n'\n"
     ]
    }
   ],
   "source": [
    "#https://www2.census.gov/programs-surveys/popest/datasets/1990-2000/national/asrh/e9090rmp.txt\n",
    "#https://www2.census.gov/programs-surveys/popest/datasets/1990-2000/national/asrh/e9091rmp.txt\n",
    "    \n",
    "#https://www2.census.gov/programs-surveys/popest/datasets/1990-2000/national/asrh/e9999rmp.txt\n",
    "#https://www2.census.gov/programs-surveys/popest/datasets/1990-2000/national/asrh/e9900rmp.txt\n",
    "#https://www2.census.gov/programs-surveys/popest/datasets/1990-2000/national/asrh/e0000rmp.txt\n",
    "#https://www2.census.gov/programs-surveys/popest/datasets/1990-2000/national/asrh/e0001rmp.txt\n",
    "    \n",
    "entries = []\n",
    "f = urllib.request.urlopen(\"https://www2.census.gov/programs-surveys/popest/datasets/1990-2000/national/asrh/e9090rmp.txt\")\n",
    "j = 0\n",
    "lines = [line for line in f]\n",
    "for i in range(612):\n",
    "    entries.append(lines[j:j+3])\n",
    "    j += 3\n",
    "#population = sum([entry[12:21] for entry in entries])\n",
    "print(type(entries[0][0]))\n",
    "print(entries[0][0])\n",
    "\n"
   ]
  },
  {
   "cell_type": "code",
   "execution_count": null,
   "metadata": {
    "collapsed": true
   },
   "outputs": [],
   "source": []
  }
 ],
 "metadata": {
  "kernelspec": {
   "display_name": "Python 3",
   "language": "python",
   "name": "python3"
  },
  "language_info": {
   "codemirror_mode": {
    "name": "ipython",
    "version": 3
   },
   "file_extension": ".py",
   "mimetype": "text/x-python",
   "name": "python",
   "nbconvert_exporter": "python",
   "pygments_lexer": "ipython3",
   "version": "3.6.1"
  }
 },
 "nbformat": 4,
 "nbformat_minor": 2
}
