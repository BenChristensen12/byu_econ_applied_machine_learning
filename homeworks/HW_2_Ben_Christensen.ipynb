{
 "cells": [
  {
   "cell_type": "code",
   "execution_count": 1,
   "metadata": {},
   "outputs": [],
   "source": [
    "import pandas as pd\n",
    "import numpy as np\n",
    "from matplotlib import pyplot as plt\n",
    "from sklearn.model_selection import train_test_split, GridSearchCV\n",
    "from sklearn.neighbors import KNeighborsClassifier, KNeighborsRegressor\n",
    "from sklearn.model_selection import train_test_split, GridSearchCV\n",
    "from sklearn.metrics import f1_score, classification_report, accuracy_score, mean_squared_error\n",
    "%matplotlib inline"
   ]
  },
  {
   "cell_type": "code",
   "execution_count": 2,
   "metadata": {
    "collapsed": true,
    "scrolled": true
   },
   "outputs": [],
   "source": [
    "df = pd.read_csv(\"train.csv\")\n",
    "y = df['SalePrice'].values"
   ]
  },
  {
   "cell_type": "code",
   "execution_count": 3,
   "metadata": {
    "collapsed": true,
    "scrolled": true
   },
   "outputs": [],
   "source": [
    "obj_df = df.select_dtypes(include=['object']).copy()\n",
    "obj_df = obj_df.fillna({\"Alley\": 0, \"MasVnrArea\": 0, \"MasVnrType\": 0, \"BsmtQual\": 0, \"BsmtCond\": 0, \"BsmtExposure\": 0, \"BsmtFinType1\": 0, \"BsmtFinType2\": 0, \"PoolQC\": 0, \"Fence\": 0, \"MiscFeature\": 0, \"GarageType\": 0, \"GarageFinish\": 0, \"GarageQual\": 0, \"GarageCond\": 0, \"FireplaceQu\": 0, \"Electrical\": \"SBrkr\"})\n"
   ]
  },
  {
   "cell_type": "markdown",
   "metadata": {},
   "source": [
    "Prepping the data for K-Nearest Neighbors"
   ]
  },
  {
   "cell_type": "code",
   "execution_count": 4,
   "metadata": {
    "scrolled": false
   },
   "outputs": [],
   "source": [
    "for item in df.items():\n",
    "    if df[item[0]].dtype == \"object\":\n",
    "        df[item[0]] = df[item[0]].astype('category')\n",
    "        df[item[0]] = df[item[0]].cat.codes\n",
    "df = df.fillna({'LotFrontage': -1, \"MasVnrArea\": 0, \"GarageYrBlt\": -1})\n",
    "df.head()\n",
    "df = df.drop(labels=[\"SalePrice\", \"Id\"], axis=1)\n",
    "for column in list(df):\n",
    "    if -1 in df[column]:\n",
    "        df[column] = df[column] + 1"
   ]
  },
  {
   "cell_type": "code",
   "execution_count": 5,
   "metadata": {},
   "outputs": [
    {
     "data": {
      "text/plain": [
       "Index([], dtype='object')"
      ]
     },
     "execution_count": 5,
     "metadata": {},
     "output_type": "execute_result"
    }
   ],
   "source": [
    "df.columns[df.isnull().any()]"
   ]
  },
  {
   "cell_type": "markdown",
   "metadata": {},
   "source": [
    "Running K-Nearest Neighbors:"
   ]
  },
  {
   "cell_type": "code",
   "execution_count": 6,
   "metadata": {},
   "outputs": [
    {
     "name": "stdout",
     "output_type": "stream",
     "text": [
      "Best Params: {'n_neighbors': 7, 'p': 1, 'weights': 'distance'}\n"
     ]
    }
   ],
   "source": [
    "X_train = df.values\n",
    "y_train = y\n",
    "reg = KNeighborsRegressor()\n",
    "gridsearch = GridSearchCV(reg, {\"n_neighbors\": [1, 3, 5, 7, 9, 11], \"weights\": ['uniform', 'distance'], 'p': [1, 2, 3]}, scoring='neg_mean_squared_error')\n",
    "gridsearch.fit(X_train, y_train)\n",
    "print(\"Best Params: {}\".format(gridsearch.best_params_))\n",
    "y_pred_train = gridsearch.predict(X_train)\n"
   ]
  },
  {
   "cell_type": "code",
   "execution_count": 7,
   "metadata": {},
   "outputs": [
    {
     "data": {
      "text/plain": [
       "-0.0"
      ]
     },
     "execution_count": 7,
     "metadata": {},
     "output_type": "execute_result"
    }
   ],
   "source": [
    "gridsearch.score(X_train, y)"
   ]
  },
  {
   "cell_type": "markdown",
   "metadata": {},
   "source": [
    "I got a R^2 = 0 so I'm going to choose a different model"
   ]
  },
  {
   "cell_type": "markdown",
   "metadata": {
    "collapsed": true
   },
   "source": [
    "# Linear Regression"
   ]
  },
  {
   "cell_type": "code",
   "execution_count": 8,
   "metadata": {
    "scrolled": false
   },
   "outputs": [],
   "source": [
    "df = pd.read_csv(\"train.csv\")\n",
    "test = pd.read_csv(\"test.csv\")\n",
    "Y = df['SalePrice'].values\n",
    "df = df.drop(labels=[\"SalePrice\", \"Id\"], axis=1)\n",
    "test = test.drop(labels=[\"Id\"], axis=1)\n",
    "num_df = df.select_dtypes(exclude=['object']).copy()\n",
    "num_test = test.select_dtypes(exclude=['object']).copy()"
   ]
  },
  {
   "cell_type": "code",
   "execution_count": 9,
   "metadata": {},
   "outputs": [],
   "source": [
    "obj_test = test.select_dtypes(include=['object']).copy()\n",
    "obj_df = df.select_dtypes(include=['object']).copy()\n",
    "object_names = [item[0] for item in obj_df.items()]\n",
    "object_t_names = [item[0] for item in obj_test.items()]\n",
    "dummified = pd.get_dummies(obj_df, columns=object_names)\n",
    "test_dumm = pd.get_dummies(obj_test, columns=object_t_names)\n",
    "\n"
   ]
  },
  {
   "cell_type": "markdown",
   "metadata": {},
   "source": [
    "There are many missing values for \"LotFrontage.\" I looked up what lot frontage meant and it's hard to understand a scenario where a house has 0 lot frontage. It's the length of property that is adjacent to a street.\n",
    "\n",
    "So I want to regress \"LotArea\" on \"LotFrontage\" over the non-missing values to see if I can predict well what the \"LotFrontage\" would be for those with missing values."
   ]
  },
  {
   "cell_type": "code",
   "execution_count": 10,
   "metadata": {
    "scrolled": true
   },
   "outputs": [
    {
     "data": {
      "text/plain": [
       "0.18155696502214747"
      ]
     },
     "execution_count": 10,
     "metadata": {},
     "output_type": "execute_result"
    }
   ],
   "source": [
    "from sklearn import linear_model\n",
    "reg_frontage = linear_model.LinearRegression()\n",
    "temp = df.copy()\n",
    "temp = temp.dropna('rows', 'any', subset=['LotFrontage'])\n",
    "X = temp['LotArea'].values\n",
    "y = temp['LotFrontage'].values\n",
    "reg_frontage.fit(X.reshape(-1,1),y.reshape(-1,1))\n",
    "reg_frontage.score(X.reshape(-1,1),y.reshape(-1,1))\n",
    "\n"
   ]
  },
  {
   "cell_type": "markdown",
   "metadata": {},
   "source": [
    "Regressing lot area on lot frontage didn't predict well enough so instead of using that to guess what the lot frontage would have been, I'll just fill lot frontage with random values from the dataset."
   ]
  },
  {
   "cell_type": "code",
   "execution_count": 11,
   "metadata": {
    "collapsed": true
   },
   "outputs": [],
   "source": [
    "df = pd.concat([num_df, dummified], axis=1)\n",
    "test = pd.concat([num_test, test_dumm], axis=1)"
   ]
  },
  {
   "cell_type": "code",
   "execution_count": 12,
   "metadata": {},
   "outputs": [],
   "source": [
    "df = df.fillna(method='ffill')\n",
    "test = test.fillna(method='ffill')"
   ]
  },
  {
   "cell_type": "code",
   "execution_count": 13,
   "metadata": {},
   "outputs": [
    {
     "data": {
      "text/plain": [
       "0.93325245783166055"
      ]
     },
     "execution_count": 13,
     "metadata": {},
     "output_type": "execute_result"
    }
   ],
   "source": [
    "linear = linear_model.LinearRegression()\n",
    "linear.fit(df.values, Y)\n",
    "linear.score(df.values, Y)\n",
    "\n"
   ]
  },
  {
   "cell_type": "markdown",
   "metadata": {
    "collapsed": true
   },
   "source": [
    "I got a R^2 = .933 \n",
    "I'm going to use linear regression."
   ]
  },
  {
   "cell_type": "code",
   "execution_count": 14,
   "metadata": {
    "scrolled": false
   },
   "outputs": [
    {
     "data": {
      "text/plain": [
       "array([ 112635.42725312,  159149.58647423,  186576.56147083, ...,\n",
       "        175875.71209857,  116070.88545564,  223328.18465103])"
      ]
     },
     "execution_count": 14,
     "metadata": {},
     "output_type": "execute_result"
    }
   ],
   "source": [
    "# Get missing columns in the training test\n",
    "missing_cols = set( df.columns ) - set( test.columns )\n",
    "# Add a missing column in test set with default value equal to 0\n",
    "for c in missing_cols:\n",
    "    test[c] = 0\n",
    "# Ensure the order of column in the test set is in the same order than in train set\n",
    "test = test[df.columns]\n",
    "linear.predict(test.values)"
   ]
  }
 ],
 "metadata": {
  "kernelspec": {
   "display_name": "Python 3",
   "language": "python",
   "name": "python3"
  },
  "language_info": {
   "codemirror_mode": {
    "name": "ipython",
    "version": 3
   },
   "file_extension": ".py",
   "mimetype": "text/x-python",
   "name": "python",
   "nbconvert_exporter": "python",
   "pygments_lexer": "ipython3",
   "version": "3.6.1"
  }
 },
 "nbformat": 4,
 "nbformat_minor": 2
}
